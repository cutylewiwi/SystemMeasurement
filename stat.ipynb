{
 "cells": [
  {
   "cell_type": "code",
   "execution_count": 4,
   "metadata": {
    "collapsed": false
   },
   "outputs": [
    {
     "name": "stderr",
     "output_type": "stream",
     "text": [
      "/home/xcc/anaconda2/lib/python2.7/site-packages/matplotlib/font_manager.py:273: UserWarning: Matplotlib is building the font cache using fc-list. This may take a moment.\n",
      "  warnings.warn('Matplotlib is building the font cache using fc-list. This may take a moment.')\n"
     ]
    }
   ],
   "source": [
    "import matplotlib.pyplot as plt"
   ]
  },
  {
   "cell_type": "code",
   "execution_count": 16,
   "metadata": {
    "collapsed": true
   },
   "outputs": [],
   "source": [
    "import numpy as np\n",
    "from subprocess import call"
   ]
  },
  {
   "cell_type": "code",
   "execution_count": 58,
   "metadata": {
    "collapsed": false
   },
   "outputs": [],
   "source": [
    "def loadData(filename):\n",
    "    intData = []\n",
    "    for line in open(filename).readlines():\n",
    "        intData.append(int(line))\n",
    "    return intData\n",
    "\n",
    "def preprocess(data):\n",
    "    data = data[2:]\n",
    "    avg = np.average(data)\n",
    "    board = 2 * avg\n",
    "    data = [x for x in data if x < board]\n",
    "    return data"
   ]
  },
  {
   "cell_type": "code",
   "execution_count": 59,
   "metadata": {
    "collapsed": false,
    "scrolled": false
   },
   "outputs": [
    {
     "name": "stdout",
     "output_type": "stream",
     "text": [
      "average: 99.3892778556\n",
      "variance: 4.51559617785\n"
     ]
    },
    {
     "data": {
      "image/png": "[encoded data removed]",
      "text/plain": [
       "<matplotlib.figure.Figure at 0x7f3c5a543950>"
      ]
     },
     "metadata": {},
     "output_type": "display_data"
    }
   ],
   "source": [
    "def analyzeTimeOvh():\n",
    "    filename = 'time_ovh.result'\n",
    "    loop = 10000\n",
    "    with open(filename, 'w') as outfile:\n",
    "        call(['./time_ovh', str(loop)], stdout=outfile)\n",
    "    \n",
    "    time_ovh = loadData(filename)\n",
    "    time_ovh = preprocess(time_ovh)\n",
    "    print 'average:', np.average(time_ovh)\n",
    "    print 'variance:', np.var(time_ovh)\n",
    "    plt.plot(time_ovh)\n",
    "    plt.ylabel('time_ovh/cycle')\n",
    "    axes = plt.gca()\n",
    "    axes.set_ylim([0,150])\n",
    "    plt.show()\n",
    "    \n",
    "analyzeTimeOvh()"
   ]
  },
  {
   "cell_type": "code",
   "execution_count": 23,
   "metadata": {
    "collapsed": false
   },
   "outputs": [],
   "source": []
  },
  {
   "cell_type": "code",
   "execution_count": null,
   "metadata": {
    "collapsed": true
   },
   "outputs": [],
   "source": []
  }
 ],
 "metadata": {
  "anaconda-cloud": {},
  "kernelspec": {
   "display_name": "Python [default]",
   "language": "python",
   "name": "python2"
  },
  "language_info": {
   "codemirror_mode": {
    "name": "ipython",
    "version": 2
   },
   "file_extension": ".py",
   "mimetype": "text/x-python",
   "name": "python",
   "nbconvert_exporter": "python",
   "pygments_lexer": "ipython2",
   "version": "2.7.12"
  }
 },
 "nbformat": 4,
 "nbformat_minor": 1
}
