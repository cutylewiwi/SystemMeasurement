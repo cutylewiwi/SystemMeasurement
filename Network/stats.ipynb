{
 "cells": [
  {
   "cell_type": "code",
   "execution_count": 2,
   "metadata": {
    "collapsed": false
   },
   "outputs": [],
   "source": [
    "import matplotlib.pyplot as plt\n",
    "import numpy as np\n",
    "from subprocess import call\n",
    "import re\n",
    "from collections import OrderedDict\n",
    "import math\n",
    "from datetime import datetime\n",
    "\n",
    "def to_microsecond(str):\n",
    "    t = datetime.strptime(str, \"%H:%M:%S.%f\")\n",
    "    return t.microsecond + 1000000 * (t.second + 60 * (t.minute + t.hour * 60))\n",
    "\n",
    "dirname = '/home/heyihong/SystemMeasurement/Network/'"
   ]
  },
  {
   "cell_type": "code",
   "execution_count": 27,
   "metadata": {
    "collapsed": false
   },
   "outputs": [
    {
     "name": "stdout",
     "output_type": "stream",
     "text": [
      "remote-rtt.result  avg (microseconds), standard variance: 338.6385518 99.2573462993\n",
      "local-rtt.result  avg (microseconds), standard variance: 28.5299 95.0668622917\n"
     ]
    }
   ],
   "source": [
    "def analyze_rtt_data(filename):\n",
    "    lines = open(dirname + filename).readlines()\n",
    "    rtts = []\n",
    "    for idx in range(0, len(lines) - 1):\n",
    "        sp1 = lines[idx].split()\n",
    "        sp2 = lines[idx + 1].split()\n",
    "        if sp1[6] == '[P.],' and sp2[6] == '[.],':\n",
    "            rtts.append(to_microsecond(sp2[0]) - to_microsecond(sp1[0]))\n",
    "    print filename, ' avg (microseconds), standard variance:', np.average(rtts), math.sqrt(np.var(rtts))\n",
    "\n",
    "analyze_rtt_data('remote-rtt.result')\n",
    "analyze_rtt_data('local-rtt.result')"
   ]
  },
  {
   "cell_type": "code",
   "execution_count": 12,
   "metadata": {
    "collapsed": false
   },
   "outputs": [
    {
     "name": "stdout",
     "output_type": "stream",
     "text": [
      "remote-conn.result setup avg (microseconds), standard variance: 353.038976857 30.6209141099\n",
      "remote-conn.result teardown avg (microseconds), standard variance: 361.045622688 42.7678231601\n",
      "local-conn.result setup avg (microseconds), standard variance: 28.956 4.19095025024\n",
      "local-conn.result teardown avg (microseconds), standard variance: 42.2517552658 12.3115609501\n"
     ]
    }
   ],
   "source": [
    "def analyze_conn_data(filename):\n",
    "    data = []\n",
    "    for line in open(dirname + filename).readlines():\n",
    "        sp = line.split()\n",
    "        tup = (to_microsecond(sp[0]), sp[6])\n",
    "        data.append(tup)\n",
    "    setup = []\n",
    "    teardown = []\n",
    "    for idx in range(0, len(data) - 2):\n",
    "        if data[idx][1] == '[S],' and data[idx + 1][1] == '[S.],' and data[idx + 2][1] == '[.],':\n",
    "            setup.append(data[idx + 2][0] - data[idx][0])\n",
    "        if data[idx][1] == '[F.],' and data[idx + 1][1] == '[F.],' and data[idx + 2][1] == '[.],':\n",
    "            teardown.append(data[idx + 2][0] - data[idx][0])\n",
    "    print filename, 'setup avg (microseconds), standard variance:', np.average(setup), math.sqrt(np.var(setup))\n",
    "    print filename, 'teardown avg (microseconds), standard variance:', np.average(teardown), math.sqrt(np.var(teardown))\n",
    "\n",
    "analyze_conn_data('remote-conn.result')\n",
    "analyze_conn_data('local-conn.result')"
   ]
  },
  {
   "cell_type": "code",
   "execution_count": 25,
   "metadata": {
    "collapsed": false
   },
   "outputs": [
    {
     "name": "stdout",
     "output_type": "stream",
     "text": [
      "remote-peak.result avg (bytes), standard variance: 111000784.0 0.0\n",
      "local-peak.result avg (bytes), standard variance: 2703793070.0 0.0\n"
     ]
    }
   ],
   "source": [
    "def analyze_peak_data(filename):\n",
    "    # gap is equal to 1 second\n",
    "    gap = 1000000\n",
    "    data = []\n",
    "    lines = open(dirname + filename).readlines()\n",
    "    for idx in range(len(lines)):\n",
    "        sp = lines[idx].split()\n",
    "        if sp[7] == 'ack':\n",
    "            (t, host1, host2, ack) = (to_microsecond(sp[0]), sp[2], sp[4][:-1], int(sp[8][:-1]))\n",
    "            data.append(((host1, host2), t / gap, ack))\n",
    "    peaks = []\n",
    "    peak = prev_ack = ack = 0\n",
    "    for idx in range(len(data)):\n",
    "        ack = max(ack, data[idx][2])\n",
    "        peak = max(peak, ack - prev_ack)\n",
    "        if idx != len(data) -1 and data[idx + 1][1] != data[idx][1]:\n",
    "            prev_ack = ack\n",
    "        if idx == len(data) - 1 or data[idx + 1][0] != data[idx][0]:\n",
    "            peaks.append(peak)\n",
    "            # the next iteration starts\n",
    "            peak = prev_ack = ack = 0\n",
    "    print filename, 'avg (bytes), standard variance:', np.average(peaks), math.sqrt(np.var(peaks))\n",
    "\n",
    "analyze_peak_data('remote-peak.result')\n",
    "analyze_peak_data('local-peak.result')"
   ]
  }
 ],
 "metadata": {
  "anaconda-cloud": {},
  "kernelspec": {
   "display_name": "Python [default]",
   "language": "python",
   "name": "python2"
  },
  "language_info": {
   "codemirror_mode": {
    "name": "ipython",
    "version": 2
   },
   "file_extension": ".py",
   "mimetype": "text/x-python",
   "name": "python",
   "nbconvert_exporter": "python",
   "pygments_lexer": "ipython2",
   "version": "2.7.12"
  }
 },
 "nbformat": 4,
 "nbformat_minor": 1
}
